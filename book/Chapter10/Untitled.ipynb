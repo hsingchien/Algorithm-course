{
 "cells": [
  {
   "cell_type": "markdown",
   "metadata": {},
   "source": [
    "### 10.1-5\n",
    "Enqueue from tail(Q, x):\n",
    "    Q[tail[Q]] = x\n",
    "    if tail[Q] == length(Q):\n",
    "        tail[Q] = 1\n",
    "    else:\n",
    "        tail[Q] += 1\n",
    "Dequeue from tail(Q):\n",
    "    if tail[Q] == 1:\n",
    "        x = Q[length[Q]]\n",
    "        tail[Q] = length[Q]\n",
    "        return x\n",
    "    else:\n",
    "        x = Q[tail[Q]-1]\n",
    "        tail[Q] -= 1\n",
    "        return x\n",
    "        \n",
    "    \n",
    "Enqueue from head(Q, x):\n",
    "    if head[Q] == 1:\n",
    "        Q[length(Q)] = x\n",
    "        head[Q] = length(Q)\n",
    "    else:\n",
    "        x = Q[head(Q)-1]\n",
    "        head[Q] -= 1\n",
    "Dequeue from head(Q):\n",
    "    Q[head[Q]] = x\n",
    "    if head[Q] == length(Q):\n",
    "        head[Q] = 1\n",
    "    else:\n",
    "        head[Q] += 1\n",
    "    return x\n",
    "### 10.1-6\n",
    "One stack to store the element in the push-in order. The other store the reversed order by push in the poped out elements from stack 1. the top element of stack2 is the first one pushed in. whenever you do the enqueue, you have to pop the stack2 to stack1 to have the timely ordered stack, then push the new one on the top. then pop all to the stack2 to have the reversed order. similar with dequeue. costs O(2n)\n",
    "### 10.1-7\n",
    "One queue to store all the elements. Dequeue return value is enqueued into queue2. there are tail-head elements. do this for n-1 times, now you have the last 'pushed' element at head and ready to pop. queue2 stores the rest of the elements, this is the rest of the queue after dequeue. costs O(n)\n",
    "### 10.2-7\n",
    "use 3 pointers to loop through the list\n",
    "while a != nil:\n",
    "    tmp = a.next  # temporarily store the pointer to next loop anchor\n",
    "    a.next = b   # reverse the pointer\n",
    "    b = a    # move the anchor\n",
    "    a = tmp  # move the anchor\n",
    "L.head = b   # reset the starting end of the list"
   ]
  }
 ],
 "metadata": {
  "kernelspec": {
   "display_name": "Python 3",
   "language": "python",
   "name": "python3"
  },
  "language_info": {
   "codemirror_mode": {
    "name": "ipython",
    "version": 3
   },
   "file_extension": ".py",
   "mimetype": "text/x-python",
   "name": "python",
   "nbconvert_exporter": "python",
   "pygments_lexer": "ipython3",
   "version": "3.6.1"
  }
 },
 "nbformat": 4,
 "nbformat_minor": 2
}
