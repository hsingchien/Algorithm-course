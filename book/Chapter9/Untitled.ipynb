{
 "cells": [
  {
   "cell_type": "markdown",
   "metadata": {},
   "source": [
    "### 9-1\n",
    "#### a\n",
    "$O(nlogn+i)$\n",
    "#### b\n",
    "build: $O(n)$, extract: $i*O(lgn)$\n",
    "#### c\n",
    "partition and find the ith: $O(n)$, sort the i numbers: $O(ilgi)$. efficiency: $c>b>a$\n",
    "### 9-2\n",
    "#### a\n",
    "$x_m$, there are $<\\frac{n}{2}$ elements less than $x_m$ and $\\leq \\frac{n}{2}$ greater\n",
    "#### b\n",
    "sorting the sequence costs $nlgn$; add up the weights from the beginning to the median takes $O(1)$\n",
    "#### c\n",
    "everytime do the partition, calculate the pre weight, if $pre\\_weight <1/2$ and $pre + pivot\\_weight >= 1/2$, stop iteration and return the pivot\n",
    "#### d\n",
    "suppose the minimizer is $p_0$. all we need to do is to prove that sum of $p_0$ is greater than $p_m$. the difference between the two can be expressed as:\n",
    "$$\n",
    "\\begin{aligned}\n",
    "&\\sum_{p_i} w_i\\ |pi-p0| - \\sum_{p_i} w_i\\ |pi-pm|\\\\\n",
    "&= \\sum_{p_i<p0} w_i(p0-pm) + \\sum_{p_i>p0}^{p_i<pm} w_i(2p_i-p0-pm) + \\sum_{p_i \\geq pm} w_i(pm-p0)\\\\\n",
    "&\\geq \\sum_{p_i<p0} w_i(p0-pm) + \\sum_{p_i \\geq pm} w_i(pm-p0) + \\sum_{p_i>p0}^{p_i<pm} w_i(p0-pm)\\\\\n",
    "&= (p0-pm)(\\sum_{p<pm}w_i - \\sum_{p\\geq pm}w_i)\n",
    "\\end{aligned}\n",
    "$$\n",
    "given that the weight sum at pm left is less than $\\frac{1}{2}$, and $p0 < pm$, so the two are same sign. the result is positive, meaning that sum of p0 is greater or equal to the sum of pm. similar process also accounts for $p0 > pm$ scenario. so the conclusion is that the minimizer is pm.\n",
    "#### e\n",
    "easy to see that x and y are independent. so the minimizer is $(x_m, y_m)$\n",
    "### 9-3\n",
    "#### a\n",
    "for a n-array assume n is even, firstly divide the array into two same sized part. pair-wised compare the two sets, and collect the larger elements into the second half of the array and smaller ones in the first half. do the recursion until the subarray size is no more than 2i. assume that we are proceding the last step where $n/4 < i$, then for the smaller set of size n/2, do the partition select of i_th element, meanwhile, swap their larger counterparts in the other half. this will divide the small array into 3 parts: pre-pivot, pivot and post-pivot. and as for their larger counterparts in the large array, we know that $postpivot counterparts \\geq postpivot \\geq pivot$. so these elements are ruled out for the candidates, together with the post-pivot ones in the small subarray. the i_th element must be within the two pre-pivot subsets of n/2 each. merge the two, total time consumption is n/2 for the first pairwise comparison, U(n/2) for the recursion and T(2i) for the final partition selection in this 2i subarray."
   ]
  }
 ],
 "metadata": {
  "kernelspec": {
   "display_name": "Python 3",
   "language": "python",
   "name": "python3"
  },
  "language_info": {
   "codemirror_mode": {
    "name": "ipython",
    "version": 3
   },
   "file_extension": ".py",
   "mimetype": "text/x-python",
   "name": "python",
   "nbconvert_exporter": "python",
   "pygments_lexer": "ipython3",
   "version": "3.6.1"
  }
 },
 "nbformat": 4,
 "nbformat_minor": 2
}
